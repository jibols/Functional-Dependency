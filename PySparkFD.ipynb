{
 "cells": [
  {
   "cell_type": "code",
   "execution_count": 265,
   "metadata": {},
   "outputs": [],
   "source": [
    "import os\n",
    "import sys\n",
    "import pyspark\n",
    "from pyspark.sql.window import *\n",
    "from pyspark.sql.functions import *\n",
    "import operator\n",
    "from pyspark.sql import SparkSession\n",
    "from pyspark import SQLContext\n"
   ]
  },
  {
   "cell_type": "code",
   "execution_count": 396,
   "metadata": {},
   "outputs": [
    {
     "data": {
      "text/plain": [
       "506"
      ]
     },
     "execution_count": 396,
     "metadata": {},
     "output_type": "execute_result"
    }
   ],
   "source": [
    "#df = op.load.csv(\"C:\\\\Users\\\\Ajibola Vincent\\\\Documents\\\\Udacity\\\\ay1.csv\")\n",
    "#sqlContext = SQLContext(sc)\n",
    "spark = SparkSession \\\n",
    "    .builder \\\n",
    "    .appName(\"Python Spark SQL basic example\") \\\n",
    "    .config(\"spark.some.config.option\", \"some-value\") \\\n",
    "    .getOrCreate()\n",
    "\n",
    "df = spark.read.csv(\"C:\\\\Users\\\\Ajibola Vincent\\\\Documents\\\\Udacity\\\\ay1.csv\",header=True,sep=\",\");\n",
    "sqlContext = SQLContext(spark)\n",
    "df.count()\n"
   ]
  },
  {
   "cell_type": "code",
   "execution_count": 397,
   "metadata": {},
   "outputs": [
    {
     "name": "stdout",
     "output_type": "stream",
     "text": [
      "+----------+-----------+\n",
      "|account_id|account_nbr|\n",
      "+----------+-----------+\n",
      "|         2|   66487163|\n",
      "|         2|   66487163|\n",
      "|         2|   66487163|\n",
      "|         2|   66487163|\n",
      "|         2|   66487163|\n",
      "|         2|   66487163|\n",
      "|         2|   66487163|\n",
      "|         2|   66487163|\n",
      "|         2|          0|\n",
      "|         2|   66487163|\n",
      "|         2|   13943797|\n",
      "|         2|          0|\n",
      "|         2|   66487163|\n",
      "|         2|   13943797|\n",
      "|         2|   66487163|\n",
      "|         2|          0|\n",
      "|         2|          0|\n",
      "|         2|   13943797|\n",
      "|         2|   66487163|\n",
      "|         2|   13943797|\n",
      "+----------+-----------+\n",
      "only showing top 20 rows\n",
      "\n"
     ]
    }
   ],
   "source": [
    "df = df.select('account_id','account_nbr').na.drop(subset=[\"account_nbr\"])\n",
    "df.show()\n",
    "w = Window.partitionBy('account_id').orderBy('account_nbr')"
   ]
  },
  {
   "cell_type": "code",
   "execution_count": 398,
   "metadata": {},
   "outputs": [],
   "source": [
    "df = df.withColumn('sorted_list', collect_set('account_nbr').over(w))\\\n",
    "        .groupBy('account_id')\\\n",
    "        .agg(max('sorted_list').alias('sorted_list'))"
   ]
  },
  {
   "cell_type": "code",
   "execution_count": 399,
   "metadata": {},
   "outputs": [
    {
     "name": "stdout",
     "output_type": "stream",
     "text": [
      "+----------+--------------------+\n",
      "|account_id|         sorted_list|\n",
      "+----------+--------------------+\n",
      "|        15|          [24265569]|\n",
      "|        34|[19993174, 589990...|\n",
      "|        22|          [97847811]|\n",
      "|        35|[99848401, 567886...|\n",
      "|        31|          [12345679]|\n",
      "|        18|          [14567877]|\n",
      "|      2357|          [93012204]|\n",
      "|        27|          [28175699]|\n",
      "|        26|[12891853, 73418420]|\n",
      "|        23|          [20774019]|\n",
      "|      3818|          [86543521]|\n",
      "|      2177|          [62457513]|\n",
      "|        33|          [33047658]|\n",
      "|         9|          [13943797]|\n",
      "|       485| [4968433, 42968433]|\n",
      "|         2|[89597016, 664871...|\n",
      "|      1844|[42988401, 8, 429...|\n",
      "+----------+--------------------+\n",
      "\n"
     ]
    }
   ],
   "source": [
    "df.show()"
   ]
  },
  {
   "cell_type": "code",
   "execution_count": 400,
   "metadata": {},
   "outputs": [
    {
     "name": "stdout",
     "output_type": "stream",
     "text": [
      "+----------+-----------+\n",
      "|account_id|sorted_list|\n",
      "+----------+-----------+\n",
      "|15        |24265569   |\n",
      "|34        |19993174   |\n",
      "|22        |97847811   |\n",
      "|35        |99848401   |\n",
      "|31        |12345679   |\n",
      "|18        |14567877   |\n",
      "|2357      |93012204   |\n",
      "|27        |28175699   |\n",
      "|26        |12891853   |\n",
      "|23        |20774019   |\n",
      "|3818      |86543521   |\n",
      "|2177      |62457513   |\n",
      "|33        |33047658   |\n",
      "|9         |13943797   |\n",
      "|485       |4968433    |\n",
      "|2         |89597016   |\n",
      "|1844      |42988401   |\n",
      "+----------+-----------+\n",
      "\n"
     ]
    }
   ],
   "source": [
    "df.withColumn(\n",
    "    'sorted_list', df[\"sorted_list\"].getItem(0)\n",
    ").show(truncate=False)\n"
   ]
  },
  {
   "cell_type": "code",
   "execution_count": null,
   "metadata": {},
   "outputs": [],
   "source": []
  }
 ],
 "metadata": {
  "kernelspec": {
   "display_name": "Python 3",
   "language": "python",
   "name": "python3"
  }
 },
 "nbformat": 4,
 "nbformat_minor": 2
}
