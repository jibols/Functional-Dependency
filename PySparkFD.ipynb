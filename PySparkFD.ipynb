{
 "cells": [
  {
   "cell_type": "code",
   "execution_count": 142,
   "metadata": {},
   "outputs": [],
   "source": [
    "import os\n",
    "import sys\n",
    "import pyspark\n",
    "from pyspark.sql.window import *\n",
    "from pyspark.sql.functions import *\n",
    "import operator\n",
    "from pyspark.sql.types import IntegerType\n",
    "from pyspark.sql import SparkSession\n",
    "from pyspark import SQLContext\n"
   ]
  },
  {
   "cell_type": "code",
   "execution_count": 212,
   "metadata": {},
   "outputs": [
    {
     "data": {
      "text/plain": [
       "506"
      ]
     },
     "execution_count": 212,
     "metadata": {},
     "output_type": "execute_result"
    }
   ],
   "source": [
    "spark = SparkSession \\\n",
    "    .builder \\\n",
    "    .appName(\"Python Spark SQL basic example\") \\\n",
    "    .config(\"spark.some.config.option\", \"some-value\") \\\n",
    "    .getOrCreate()\n",
    "\n",
    "df = spark.read.csv(\"C:\\\\Users\\\\Ajibola Vincent\\\\Documents\\\\Udacity\\\\ay1.csv\",header=True,sep=\",\");\n",
    "sqlContext = SQLContext(spark)\n",
    "df.count()\n"
   ]
  },
  {
   "cell_type": "code",
   "execution_count": 245,
   "metadata": {},
   "outputs": [
    {
     "name": "stdout",
     "output_type": "stream",
     "text": [
      "root\n",
      " |-- account_id: string (nullable = true)\n",
      " |-- account_nbr: string (nullable = true)\n",
      "\n"
     ]
    }
   ],
   "source": [
    "df = df.select('account_id','account_nbr').na.drop(subset=[\"account_nbr\"])\n",
    "df.printSchema()\n",
    "w = Window.partitionBy('account_id').orderBy('account_nbr')"
   ]
  },
  {
   "cell_type": "code",
   "execution_count": 260,
   "metadata": {},
   "outputs": [
    {
     "name": "stdout",
     "output_type": "stream",
     "text": [
      "+----------+--------------------+\n",
      "|account_id|         account_nbr|\n",
      "+----------+--------------------+\n",
      "|        15|          [24265569]|\n",
      "|        18|          [14567877]|\n",
      "|      1844|[42988401, 8, 429...|\n",
      "|         2|[89597016, 664871...|\n",
      "|      2177|          [62457513]|\n",
      "|        22|          [97847811]|\n",
      "|        23|          [20774019]|\n",
      "|      2357|          [93012204]|\n",
      "|        26|[12891853, 73418420]|\n",
      "|        27|          [28175699]|\n",
      "|        31|          [12345679]|\n",
      "|        33|          [33047658]|\n",
      "|        34|[19993174, 589990...|\n",
      "|        35|[99848401, 567886...|\n",
      "|      3818|          [86543521]|\n",
      "|       485| [4968433, 42968433]|\n",
      "|         9|          [13943797]|\n",
      "+----------+--------------------+\n",
      "\n"
     ]
    }
   ],
   "source": [
    "'''sd = df.withColumn('sorted_list', collect_set('account_nbr').over(w))\\\n",
    "        .groupBy('account_id')\\\n",
    "        .agg(max('sorted_list').alias('sorted_list'))'''\n",
    "\n",
    "sd = df.groupby(\"account_id\")\\\n",
    "  .agg(collect_set(\"account_nbr\").alias('account_nbr'))\\\n",
    "  .orderBy(\"account_id\")\n",
    "sd.show()"
   ]
  },
  {
   "cell_type": "code",
   "execution_count": 261,
   "metadata": {},
   "outputs": [
    {
     "name": "stdout",
     "output_type": "stream",
     "text": [
      "root\n",
      " |-- account_id: integer (nullable = true)\n",
      " |-- account_nbr: string (nullable = true)\n",
      "\n"
     ]
    }
   ],
   "source": [
    "sd = sd.withColumn(\n",
    "    'account_nbr', sd.account_nbr.getItem(0)\n",
    ")\n",
    "#sd = sd.orderBy(asc('account_id'))\n",
    "sd = sd.withColumn(\"account_id\", sd.account_id.cast(IntegerType()))\n",
    "sd = sd.sort(asc('account_id'))\n",
    "sd.printSchema()"
   ]
  },
  {
   "cell_type": "code",
   "execution_count": 299,
   "metadata": {},
   "outputs": [
    {
     "name": "stdout",
     "output_type": "stream",
     "text": [
      "+----------+-----------+\n",
      "|account_id|account_nbr|\n",
      "+----------+-----------+\n",
      "|         2|   89597016|\n",
      "|         9|   13943797|\n",
      "|        15|   24265569|\n",
      "|        18|   14567877|\n",
      "|        22|   97847811|\n",
      "|        23|   20774019|\n",
      "|        26|   12891853|\n",
      "|        27|   28175699|\n",
      "|        31|   12345679|\n",
      "|        33|   33047658|\n",
      "|        34|   19993174|\n",
      "|        35|   99848401|\n",
      "|       485|    4968433|\n",
      "|      1844|   42988401|\n",
      "|      2177|   62457513|\n",
      "|      2357|   93012204|\n",
      "|      3818|   86543521|\n",
      "+----------+-----------+\n",
      "\n"
     ]
    }
   ],
   "source": [
    "sd.show()\n",
    "df = df.withColumn(\"account_id\", df.account_id.cast(IntegerType()))"
   ]
  },
  {
   "cell_type": "code",
   "execution_count": 304,
   "metadata": {},
   "outputs": [],
   "source": [
    "re = df.join(sd,(df.account_nbr == sd.account_nbr) & (df.account_id == sd.account_id),how='left_semi')\n"
   ]
  },
  {
   "cell_type": "code",
   "execution_count": 305,
   "metadata": {},
   "outputs": [
    {
     "data": {
      "text/plain": [
       "191"
      ]
     },
     "execution_count": 305,
     "metadata": {},
     "output_type": "execute_result"
    }
   ],
   "source": [
    "re.count()"
   ]
  },
  {
   "cell_type": "code",
   "execution_count": 307,
   "metadata": {},
   "outputs": [
    {
     "name": "stdout",
     "output_type": "stream",
     "text": [
      "+----------+-----------+\n",
      "|account_id|account_nbr|\n",
      "+----------+-----------+\n",
      "|         2|   89597016|\n",
      "|         2|   89597016|\n",
      "|         2|   89597016|\n",
      "|         2|   89597016|\n",
      "|         2|   89597016|\n",
      "|         9|   13943797|\n",
      "|         9|   13943797|\n",
      "|         9|   13943797|\n",
      "|         9|   13943797|\n",
      "|         9|   13943797|\n",
      "|         9|   13943797|\n",
      "|         9|   13943797|\n",
      "|         9|   13943797|\n",
      "|         9|   13943797|\n",
      "|         9|   13943797|\n",
      "|         9|   13943797|\n",
      "|         9|   13943797|\n",
      "|         9|   13943797|\n",
      "|         9|   13943797|\n",
      "|         9|   13943797|\n",
      "|         9|   13943797|\n",
      "|         9|   13943797|\n",
      "|         9|   13943797|\n",
      "|         9|   13943797|\n",
      "|         9|   13943797|\n",
      "|         9|   13943797|\n",
      "|         9|   13943797|\n",
      "|         9|   13943797|\n",
      "|         9|   13943797|\n",
      "|         9|   13943797|\n",
      "|         9|   13943797|\n",
      "|         9|   13943797|\n",
      "|         9|   13943797|\n",
      "|         9|   13943797|\n",
      "|         9|   13943797|\n",
      "|         9|   13943797|\n",
      "|         9|   13943797|\n",
      "|         9|   13943797|\n",
      "|         9|   13943797|\n",
      "|         9|   13943797|\n",
      "|         9|   13943797|\n",
      "|         9|   13943797|\n",
      "|         9|   13943797|\n",
      "|         9|   13943797|\n",
      "|         9|   13943797|\n",
      "|         9|   13943797|\n",
      "|         9|   13943797|\n",
      "|         9|   13943797|\n",
      "|         9|   13943797|\n",
      "|         9|   13943797|\n",
      "|         9|   13943797|\n",
      "|         9|   13943797|\n",
      "|         9|   13943797|\n",
      "|         9|   13943797|\n",
      "|         9|   13943797|\n",
      "|         9|   13943797|\n",
      "|         9|   13943797|\n",
      "|         9|   13943797|\n",
      "|         9|   13943797|\n",
      "|         9|   13943797|\n",
      "|         9|   13943797|\n",
      "|         9|   13943797|\n",
      "|         9|   13943797|\n",
      "|         9|   13943797|\n",
      "|         9|   13943797|\n",
      "|         9|   13943797|\n",
      "|         9|   13943797|\n",
      "|         9|   13943797|\n",
      "|         9|   13943797|\n",
      "|         9|   13943797|\n",
      "|         9|   13943797|\n",
      "|         9|   13943797|\n",
      "|         9|   13943797|\n",
      "|         9|   13943797|\n",
      "|         9|   13943797|\n",
      "|        15|   24265569|\n",
      "|        15|   24265569|\n",
      "|        15|   24265569|\n",
      "|        15|   24265569|\n",
      "|        15|   24265569|\n",
      "|        15|   24265569|\n",
      "|        15|   24265569|\n",
      "|        15|   24265569|\n",
      "|        15|   24265569|\n",
      "|        15|   24265569|\n",
      "|        15|   24265569|\n",
      "|        15|   24265569|\n",
      "|        15|   24265569|\n",
      "|        15|   24265569|\n",
      "|        15|   24265569|\n",
      "|        18|   14567877|\n",
      "|        18|   14567877|\n",
      "|        18|   14567877|\n",
      "|        18|   14567877|\n",
      "|        18|   14567877|\n",
      "|        18|   14567877|\n",
      "|        18|   14567877|\n",
      "|        18|   14567877|\n",
      "|        18|   14567877|\n",
      "|        18|   14567877|\n",
      "|        18|   14567877|\n",
      "|        18|   14567877|\n",
      "|        18|   14567877|\n",
      "|        18|   14567877|\n",
      "|        18|   14567877|\n",
      "|        18|   14567877|\n",
      "|        18|   14567877|\n",
      "|        18|   14567877|\n",
      "|        18|   14567877|\n",
      "|        18|   14567877|\n",
      "|        18|   14567877|\n",
      "|        18|   14567877|\n",
      "|        22|   97847811|\n",
      "|        22|   97847811|\n",
      "|        22|   97847811|\n",
      "|        22|   97847811|\n",
      "|        22|   97847811|\n",
      "|        23|   20774019|\n",
      "|        23|   20774019|\n",
      "|        23|   20774019|\n",
      "+----------+-----------+\n",
      "only showing top 120 rows\n",
      "\n"
     ]
    }
   ],
   "source": [
    "re.show(120)"
   ]
  },
  {
   "cell_type": "code",
   "execution_count": null,
   "metadata": {},
   "outputs": [],
   "source": []
  }
 ],
 "metadata": {
  "kernelspec": {
   "display_name": "Python 3",
   "language": "python",
   "name": "python3"
  },
  "language_info": {
   "codemirror_mode": {
    "name": "ipython",
    "version": 3
   },
   "file_extension": ".py",
   "mimetype": "text/x-python",
   "name": "python",
   "nbconvert_exporter": "python",
   "pygments_lexer": "ipython3",
   "version": "3.7.1"
  }
 },
 "nbformat": 4,
 "nbformat_minor": 2
}
