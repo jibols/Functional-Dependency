{
 "cells": [
  {
   "cell_type": "code",
   "execution_count": 111,
   "metadata": {},
   "outputs": [],
   "source": [
    "import os\n",
    "import sys\n",
    "import pyspark\n",
    "from pyspark.sql import SparkSession\n",
    "from pyspark import SQLContext\n"
   ]
  },
  {
   "cell_type": "code",
   "execution_count": 140,
   "metadata": {},
   "outputs": [
    {
     "data": {
      "text/plain": [
       "506"
      ]
     },
     "execution_count": 140,
     "metadata": {},
     "output_type": "execute_result"
    }
   ],
   "source": [
    "#df = op.load.csv(\"C:\\\\Users\\\\Ajibola Vincent\\\\Documents\\\\Udacity\\\\ay1.csv\")\n",
    "#sqlContext = SQLContext(sc)\n",
    "spark = SparkSession \\\n",
    "    .builder \\\n",
    "    .appName(\"Python Spark SQL basic example\") \\\n",
    "    .config(\"spark.some.config.option\", \"some-value\") \\\n",
    "    .getOrCreate()\n",
    "\n",
    "df = spark.read.csv(\"C:\\\\Users\\\\Ajibola Vincent\\\\Documents\\\\Udacity\\\\ay1.csv\",header=True,sep=\",\");\n",
    "sqlContext = SQLContext(spark)\n",
    "df.count()\n"
   ]
  },
  {
   "cell_type": "code",
   "execution_count": 141,
   "metadata": {},
   "outputs": [
    {
     "data": {
      "text/plain": [
       "263"
      ]
     },
     "execution_count": 141,
     "metadata": {},
     "output_type": "execute_result"
    }
   ],
   "source": [
    "df = df.na.drop(subset=[\"account_nbr\"])\n",
    "#df.count()\n",
    "df.count()"
   ]
  },
  {
   "cell_type": "code",
   "execution_count": 142,
   "metadata": {},
   "outputs": [
    {
     "name": "stdout",
     "output_type": "stream",
     "text": [
      "root\n",
      " |-- trans_id: string (nullable = true)\n",
      " |-- account_id: string (nullable = true)\n",
      " |-- account_nbr: string (nullable = true)\n",
      " |-- date: string (nullable = true)\n",
      " |-- type: string (nullable = true)\n",
      " |-- operation: string (nullable = true)\n",
      " |-- amount: string (nullable = true)\n",
      " |-- balance: string (nullable = true)\n",
      " |-- k_symbol: string (nullable = true)\n",
      " |-- bank: string (nullable = true)\n",
      "\n"
     ]
    }
   ],
   "source": [
    "df.printSchema()"
   ]
  },
  {
   "cell_type": "code",
   "execution_count": 144,
   "metadata": {},
   "outputs": [
    {
     "data": {
      "text/plain": [
       "17"
      ]
     },
     "execution_count": 144,
     "metadata": {},
     "output_type": "execute_result"
    }
   ],
   "source": [
    "df.select('account_id').distinct().count()"
   ]
  },
  {
   "cell_type": "code",
   "execution_count": 146,
   "metadata": {},
   "outputs": [],
   "source": [
    "df.registerTempTable(\"interactions\")"
   ]
  },
  {
   "cell_type": "code",
   "execution_count": 163,
   "metadata": {},
   "outputs": [],
   "source": [
    "tcp_interactions = sqlContext.sql(\"\"\"\n",
    "    SELECT account_id, COUNT(DISTINCT account_nbr ) c FROM interactions GROUP BY account_id HAVING c >= 1\"\"\")"
   ]
  },
  {
   "cell_type": "code",
   "execution_count": 164,
   "metadata": {},
   "outputs": [
    {
     "name": "stdout",
     "output_type": "stream",
     "text": [
      "+----------+---+\n",
      "|account_id|  c|\n",
      "+----------+---+\n",
      "|        15|  1|\n",
      "|        34|  3|\n",
      "|        22|  1|\n",
      "|        35|  3|\n",
      "|        31|  1|\n",
      "|        18|  1|\n",
      "|      2357|  1|\n",
      "|        27|  1|\n",
      "|        26|  2|\n",
      "|        23|  1|\n",
      "|      3818|  1|\n",
      "|      2177|  1|\n",
      "|        33|  1|\n",
      "|         9|  1|\n",
      "|       485|  2|\n",
      "|         2|  4|\n",
      "|      1844|  3|\n",
      "+----------+---+\n",
      "\n"
     ]
    }
   ],
   "source": [
    "tcp_interactions.show()\n",
    "#tcp.show()"
   ]
  },
  {
   "cell_type": "code",
   "execution_count": null,
   "metadata": {},
   "outputs": [],
   "source": []
  }
 ],
 "metadata": {
  "kernelspec": {
   "display_name": "Python 3",
   "language": "python",
   "name": "python3"
  },
  "language_info": {
   "codemirror_mode": {
    "name": "ipython",
    "version": 3
   },
   "file_extension": ".py",
   "mimetype": "text/x-python",
   "name": "python",
   "nbconvert_exporter": "python",
   "pygments_lexer": "ipython3",
   "version": "3.7.1"
  }
 },
 "nbformat": 4,
 "nbformat_minor": 2
}
